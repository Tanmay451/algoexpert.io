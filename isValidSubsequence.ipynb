{
 "cells": [
  {
   "cell_type": "code",
   "execution_count": 1,
   "metadata": {},
   "outputs": [],
   "source": [
    "def isValidSubsequence(array, sequence):\n",
    "    # Write your code here.\n",
    "    arrayIdx = 0\n",
    "    sequenceIdx = 0\n",
    "    while arrayIdx<len(array) and sequenceIdx<len(sequence):\n",
    "        if array[arrayIdx] == sequence[sequenceIdx]:\n",
    "            sequenceIdx+=1\n",
    "        arrayIdx+=1\n",
    "    \n",
    "    return sequenceIdx == len(sequence)"
   ]
  },
  {
   "cell_type": "code",
   "execution_count": 2,
   "metadata": {},
   "outputs": [],
   "source": [
    "def isValidSubsequence(array, sequence):\n",
    "    # Write your code here.\n",
    "    for i in array:\n",
    "        if i == sequence[0]:\n",
    "            sequence.pop(0)\n",
    "        if not sequence:\n",
    "            return True\n",
    "\n",
    "    return False"
   ]
  },
  {
   "cell_type": "code",
   "execution_count": 3,
   "metadata": {},
   "outputs": [],
   "source": [
    "array = [5,1,22,25,6,-1,8,10]\n",
    "sequence = [1,6,-1,10]"
   ]
  },
  {
   "cell_type": "code",
   "execution_count": 4,
   "metadata": {},
   "outputs": [
    {
     "data": {
      "text/plain": [
       "True"
      ]
     },
     "execution_count": 4,
     "metadata": {},
     "output_type": "execute_result"
    }
   ],
   "source": [
    "isValidSubsequence(array,sequence)"
   ]
  },
  {
   "cell_type": "code",
   "execution_count": null,
   "metadata": {},
   "outputs": [],
   "source": []
  }
 ],
 "metadata": {
  "kernelspec": {
   "display_name": "Python 3",
   "language": "python",
   "name": "python3"
  },
  "language_info": {
   "codemirror_mode": {
    "name": "ipython",
    "version": 3
   },
   "file_extension": ".py",
   "mimetype": "text/x-python",
   "name": "python",
   "nbconvert_exporter": "python",
   "pygments_lexer": "ipython3",
   "version": "3.8.5"
  }
 },
 "nbformat": 4,
 "nbformat_minor": 4
}
