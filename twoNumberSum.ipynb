{
 "cells": [
  {
   "cell_type": "code",
   "execution_count": 1,
   "metadata": {},
   "outputs": [],
   "source": [
    "def twoNumberSum1(array, targetSum):\n",
    "    # Write your code here.\n",
    "    result = []\n",
    "    for i in range(len(array)):\n",
    "        for j in range(i+1,len(array)):\n",
    "            if array[i]+array[j]== targetSum:\n",
    "                result.append(array[i])\n",
    "                result.append(array[j])\n",
    "            return result\n",
    "\n",
    "    return result\n"
   ]
  },
  {
   "cell_type": "code",
   "execution_count": 2,
   "metadata": {},
   "outputs": [],
   "source": [
    "def twoNumberSum2(array, targetSum):\n",
    "    # Write your code here.\n",
    "\n",
    "    result = []\n",
    "    arr = {}\n",
    "    for i in range(len(array)):\n",
    "        key = array[i]\n",
    "        if key in arr:\n",
    "            return [key,arr[key]]\n",
    "        arr[targetSum-array[i]]=array[i]\n",
    "\n",
    "    return result"
   ]
  },
  {
   "cell_type": "code",
   "execution_count": 3,
   "metadata": {},
   "outputs": [],
   "source": [
    "def twoNumberSum3(array, targetSum):\n",
    "    # Write your code here.\n",
    "\n",
    "    array.sort()\n",
    "    left = 0\n",
    "    right = len(array)-1\n",
    "    \n",
    "    while(left<right):\n",
    "        if array[left]+array[right] == targetSum:\n",
    "            return [array[left],array[right]]\n",
    "\n",
    "        if array[left]+array[right] < targetSum:\n",
    "            left+=1\n",
    "\n",
    "        if array[left]+array[right] > targetSum:\n",
    "            right-=1\n",
    "\n",
    "    return []\n"
   ]
  },
  {
   "cell_type": "code",
   "execution_count": 4,
   "metadata": {},
   "outputs": [
    {
     "name": "stdout",
     "output_type": "stream",
     "text": [
      "--- 0.9944419860839844 seconds ---\n",
      "--- 2.3154191970825195 seconds ---\n",
      "--- 0.9509754180908203 seconds ---\n"
     ]
    }
   ],
   "source": [
    "import time\n",
    "\n",
    "array = [3, 5, -4, 8, 11, 1, -1, 6]\n",
    "targetSum = 10\n",
    "\n",
    "start_time = time.time()\n",
    "for i in range(1000000):\n",
    "    twoNumberSum1(array,targetSum)\n",
    "print(\"--- %s seconds ---\" % (time.time() - start_time))\n",
    "\n",
    "start_time = time.time()\n",
    "for i in range(1000000):\n",
    "    twoNumberSum2(array,targetSum)\n",
    "print(\"--- %s seconds ---\" % (time.time() - start_time))\n",
    "\n",
    "start_time = time.time()\n",
    "for i in range(1000000):\n",
    "    twoNumberSum3(array,targetSum)\n",
    "print(\"--- %s seconds ---\" % (time.time() - start_time))"
   ]
  },
  {
   "cell_type": "code",
   "execution_count": null,
   "metadata": {},
   "outputs": [],
   "source": []
  }
 ],
 "metadata": {
  "kernelspec": {
   "display_name": "Python 3",
   "language": "python",
   "name": "python3"
  },
  "language_info": {
   "codemirror_mode": {
    "name": "ipython",
    "version": 3
   },
   "file_extension": ".py",
   "mimetype": "text/x-python",
   "name": "python",
   "nbconvert_exporter": "python",
   "pygments_lexer": "ipython3",
   "version": "3.8.5"
  }
 },
 "nbformat": 4,
 "nbformat_minor": 4
}
